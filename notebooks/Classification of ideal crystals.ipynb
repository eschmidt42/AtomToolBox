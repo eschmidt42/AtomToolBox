{
 "cells": [
  {
   "cell_type": "markdown",
   "metadata": {},
   "source": [
    "# How to Train a Classifier on Ideal Crystals\n",
    "\n",
    "This tutorial shows how to create crystals using the `ase` package and then transform neighbouring information of each atom into a feature vector. These feature vector representations can then be used to classify atoms using supervised learning algorithms implemented in `sklearn`."
   ]
  },
  {
   "cell_type": "code",
   "execution_count": 2,
   "metadata": {},
   "outputs": [],
   "source": [
    "%matplotlib notebook\n",
    "import numpy as np\n",
    "from scipy import interpolate, spatial\n",
    "import itertools, warnings\n",
    "from ase.lattice.cubic import FaceCenteredCubic, SimpleCubicFactory\n",
    "from ase.spacegroup import crystal\n",
    "import matplotlib.pylab as plt\n",
    "from mpl_toolkits.mplot3d import Axes3D\n",
    "from sklearn import linear_model, utils, preprocessing\n",
    "import sklearn\n",
    "import atomtoolbox as atb\n",
    "\n",
    "from sklearn.model_selection import train_test_split\n",
    "from sklearn.preprocessing import StandardScaler\n",
    "from sklearn.datasets import make_moons, make_circles, make_classification\n",
    "from sklearn.neural_network import MLPClassifier\n",
    "from sklearn.neighbors import KNeighborsClassifier\n",
    "from sklearn.svm import SVC\n",
    "from sklearn.gaussian_process import GaussianProcessClassifier\n",
    "from sklearn.gaussian_process.kernels import RBF\n",
    "from sklearn.tree import DecisionTreeClassifier\n",
    "from sklearn.ensemble import RandomForestClassifier, AdaBoostClassifier\n",
    "from sklearn.naive_bayes import GaussianNB\n",
    "from sklearn.discriminant_analysis import QuadraticDiscriminantAnalysis"
   ]
  },
  {
   "cell_type": "markdown",
   "metadata": {},
   "source": [
    "## 1. Generating Structure Database"
   ]
  },
  {
   "cell_type": "code",
   "execution_count": 3,
   "metadata": {
    "collapsed": true
   },
   "outputs": [],
   "source": [
    "a0 = 3.52\n",
    "L12 = atb.L12Factory()\n",
    "atoms_gamma_prime = L12(directions=[[1,0,0],[0,1,0],[0,0,1]], size=(1,1,1), \n",
    "                          symbol=[\"Al\",\"Ni\"],pbc=(1,1,1),latticeconstant=a0)\n",
    "\n",
    "a = 4.05\n",
    "atoms_fccAl = crystal('Al', [(0,0,0)], spacegroup=225, cellpar=[a, a, a, 90, 90, 90])\n",
    "atoms_bccAl = crystal('Al', [(0,0,0)], spacegroup=229, cellpar=[a, a, a, 90, 90, 90])"
   ]
  },
  {
   "cell_type": "markdown",
   "metadata": {},
   "source": [
    "## 2. Setting up Design Matrices"
   ]
  },
  {
   "cell_type": "code",
   "execution_count": 4,
   "metadata": {},
   "outputs": [
    {
     "name": "stdout",
     "output_type": "stream",
     "text": [
      "Phis: bop = (10, 3) angles = (10, 20)\n",
      "Phi: all = (10, 23)\n"
     ]
    }
   ],
   "source": [
    "all_filter = lambda s,s_ref: np.array([True for v in range(s.shape[0])])\n",
    "like_filter = lambda s,s_ref: s == s_ref\n",
    "unlike_filter = lambda s,s_ref: s != s_ref\n",
    "\n",
    "# angle histograms\n",
    "tbaf_params = {\"k\":20,\"_range\":(0,np.pi),\"normed\":True,\"element_filter\":all_filter}\n",
    "Phi_gamma_prime_angles = atb.get_crystal_design_matrix(atoms=atoms_gamma_prime, r_cut=4., \n",
    "                                            features_class=atb.ThreeBodyAngleFeatures,\n",
    "                                            params_features=tbaf_params)\n",
    "Phi_fccAl_angles = atb.get_crystal_design_matrix(atoms=atoms_fccAl, r_cut=4., \n",
    "                                            features_class=atb.ThreeBodyAngleFeatures,\n",
    "                                            params_features=tbaf_params)\n",
    "Phi_bccAl_angles = atb.get_crystal_design_matrix(atoms=atoms_bccAl, r_cut=4., \n",
    "                                            features_class=atb.ThreeBodyAngleFeatures,\n",
    "                                            params_features=tbaf_params)\n",
    "Phi_angles = np.vstack((Phi_gamma_prime_angles,Phi_fccAl_angles,Phi_bccAl_angles))\n",
    "\n",
    "# bond order parameters\n",
    "bopf_params = {\"k\":[4,6,8],\"element_filter\":all_filter}\n",
    "Phi_gamma_prime_bop = atb.get_crystal_design_matrix(atoms=atoms_gamma_prime, r_cut=4., \n",
    "                                            features_class=atb.BondOrderParameterFeatures,\n",
    "                                            params_features=bopf_params)\n",
    "Phi_fccAl_bop = atb.get_crystal_design_matrix(atoms=atoms_fccAl, r_cut=4., \n",
    "                                            features_class=atb.BondOrderParameterFeatures,\n",
    "                                            params_features=bopf_params)\n",
    "Phi_bccAl_bop = atb.get_crystal_design_matrix(atoms=atoms_bccAl, r_cut=4., \n",
    "                                            features_class=atb.BondOrderParameterFeatures,\n",
    "                                            params_features=bopf_params)\n",
    "Phi_bop = np.vstack((Phi_gamma_prime_bop,Phi_fccAl_bop,Phi_bccAl_bop))\n",
    "\n",
    "print(\"Phis: bop = {} angles = {}\".format(Phi_bop.shape,Phi_angles.shape))\n",
    "Phi = np.hstack((Phi_angles,Phi_bop))\n",
    "print(\"Phi: all = {}\".format(Phi.shape))"
   ]
  },
  {
   "cell_type": "markdown",
   "metadata": {},
   "source": [
    "## 3. Generating Labels"
   ]
  },
  {
   "cell_type": "code",
   "execution_count": 5,
   "metadata": {},
   "outputs": [
    {
     "name": "stdout",
     "output_type": "stream",
     "text": [
      "[0 0 0 0 1 1 1 1 2 2] (10, 23)\n"
     ]
    }
   ],
   "source": [
    "label_map = {\"gp\":0,\"fccAl\":1,\"bccAl\":2}\n",
    "t = [label_map[\"gp\"] for v in range(Phi_gamma_prime_angles.shape[0])] +\\\n",
    "    [label_map[\"fccAl\"] for v in range(Phi_fccAl_angles.shape[0])] +\\\n",
    "    [label_map[\"bccAl\"] for v in range(Phi_bccAl_angles.shape[0])]\n",
    "t = np.array(t,dtype=int)\n",
    "print(t,Phi.shape)"
   ]
  },
  {
   "cell_type": "markdown",
   "metadata": {},
   "source": [
    "## 4. Training Classifiers\n",
    "\n",
    "Example with various classifiers, standardization and test/train splits: http://scikit-learn.org/stable/auto_examples/classification/plot_classifier_comparison.html"
   ]
  },
  {
   "cell_type": "code",
   "execution_count": 6,
   "metadata": {
    "scrolled": true
   },
   "outputs": [
    {
     "name": "stdout",
     "output_type": "stream",
     "text": [
      "\n",
      "processing: AdaBoost\n",
      "score =  1.0\n",
      "\n",
      "processing: Decision Tree\n",
      "score =  1.0\n",
      "\n",
      "processing: Gaussian Process\n",
      "score =  1.0\n",
      "\n",
      "processing: Linear SVM\n",
      "score =  1.0\n",
      "\n",
      "processing: Naive Bayes\n",
      "score =  1.0\n",
      "\n",
      "processing: Nearest Neighbors\n",
      "score =  1.0\n",
      "\n",
      "processing: Neural Net\n",
      "score =  1.0\n",
      "\n",
      "processing: QDA\n",
      "score =  0.4\n",
      "\n",
      "processing: RBF SVM\n",
      "score =  1.0\n",
      "\n",
      "processing: Random Forest\n",
      "score =  1.0\n"
     ]
    },
    {
     "name": "stderr",
     "output_type": "stream",
     "text": [
      "E:\\Programs\\Anaconda3\\envs\\py35\\lib\\site-packages\\sklearn\\neural_network\\multilayer_perceptron.py:564: ConvergenceWarning: Stochastic Optimizer: Maximum iterations (200) reached and the optimization hasn't converged yet.\n",
      "  % self.max_iter, ConvergenceWarning)\n",
      "E:\\Programs\\Anaconda3\\envs\\py35\\lib\\site-packages\\sklearn\\discriminant_analysis.py:682: UserWarning: Variables are collinear\n",
      "  warnings.warn(\"Variables are collinear\")\n",
      "E:\\Programs\\Anaconda3\\envs\\py35\\lib\\site-packages\\sklearn\\discriminant_analysis.py:706: RuntimeWarning: divide by zero encountered in power\n",
      "  X2 = np.dot(Xm, R * (S ** (-0.5)))\n",
      "E:\\Programs\\Anaconda3\\envs\\py35\\lib\\site-packages\\sklearn\\discriminant_analysis.py:706: RuntimeWarning: invalid value encountered in multiply\n",
      "  X2 = np.dot(Xm, R * (S ** (-0.5)))\n",
      "E:\\Programs\\Anaconda3\\envs\\py35\\lib\\site-packages\\sklearn\\discriminant_analysis.py:709: RuntimeWarning: divide by zero encountered in log\n",
      "  u = np.asarray([np.sum(np.log(s)) for s in self.scalings_])\n"
     ]
    }
   ],
   "source": [
    "classifiers = {\"Nearest Neighbors\":KNeighborsClassifier(3),\n",
    "               \"Linear SVM\":SVC(kernel=\"linear\", C=0.025),\n",
    "               \"RBF SVM\":SVC(gamma=2, C=1),\n",
    "               \"Gaussian Process\":GaussianProcessClassifier(1.0 * RBF(1.0)),\n",
    "               \"Decision Tree\":DecisionTreeClassifier(max_depth=5),\n",
    "               \"Random Forest\":RandomForestClassifier(max_depth=5, n_estimators=10, max_features=1),\n",
    "               \"Neural Net\":MLPClassifier(alpha=1),\n",
    "               \"AdaBoost\":AdaBoostClassifier(),\n",
    "               \"Naive Bayes\":GaussianNB(),\n",
    "               \"QDA\":QuadraticDiscriminantAnalysis()}\n",
    "\n",
    "classifier_names = sorted(list(classifiers.keys()))\n",
    "\n",
    "for clf_name in classifier_names:\n",
    "    print(\"\\nprocessing: {}\".format(clf_name))\n",
    "    classifiers[clf_name].fit(Phi,t)\n",
    "    print(\"score = \",classifiers[clf_name].score(Phi,t))"
   ]
  },
  {
   "cell_type": "code",
   "execution_count": null,
   "metadata": {
    "collapsed": true
   },
   "outputs": [],
   "source": []
  }
 ],
 "metadata": {
  "kernelspec": {
   "display_name": "py35",
   "language": "python",
   "name": "py35"
  },
  "language_info": {
   "codemirror_mode": {
    "name": "ipython",
    "version": 3
   },
   "file_extension": ".py",
   "mimetype": "text/x-python",
   "name": "python",
   "nbconvert_exporter": "python",
   "pygments_lexer": "ipython3",
   "version": "3.5.3"
  }
 },
 "nbformat": 4,
 "nbformat_minor": 2
}
